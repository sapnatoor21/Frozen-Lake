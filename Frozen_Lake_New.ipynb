{
  "nbformat": 4,
  "nbformat_minor": 0,
  "metadata": {
    "colab": {
      "provenance": []
    },
    "kernelspec": {
      "name": "python3",
      "display_name": "Python 3"
    },
    "language_info": {
      "name": "python"
    }
  },
  "cells": [
    {
      "cell_type": "code",
      "execution_count": 1,
      "metadata": {
        "colab": {
          "base_uri": "https://localhost:8080/"
        },
        "id": "kYo7yuSqtmxX",
        "outputId": "f608e189-a568-43dc-efa6-3d1a7811b5bc"
      },
      "outputs": [
        {
          "output_type": "stream",
          "name": "stdout",
          "text": [
            "Collecting gymnasium\n",
            "  Downloading gymnasium-0.29.1-py3-none-any.whl.metadata (10 kB)\n",
            "Requirement already satisfied: numpy>=1.21.0 in /usr/local/lib/python3.10/dist-packages (from gymnasium) (1.26.4)\n",
            "Requirement already satisfied: cloudpickle>=1.2.0 in /usr/local/lib/python3.10/dist-packages (from gymnasium) (2.2.1)\n",
            "Requirement already satisfied: typing-extensions>=4.3.0 in /usr/local/lib/python3.10/dist-packages (from gymnasium) (4.12.2)\n",
            "Collecting farama-notifications>=0.0.1 (from gymnasium)\n",
            "  Downloading Farama_Notifications-0.0.4-py3-none-any.whl.metadata (558 bytes)\n",
            "Downloading gymnasium-0.29.1-py3-none-any.whl (953 kB)\n",
            "\u001b[2K   \u001b[90m━━━━━━━━━━━━━━━━━━━━━━━━━━━━━━━━━━━━━━━━\u001b[0m \u001b[32m953.9/953.9 kB\u001b[0m \u001b[31m11.0 MB/s\u001b[0m eta \u001b[36m0:00:00\u001b[0m\n",
            "\u001b[?25hDownloading Farama_Notifications-0.0.4-py3-none-any.whl (2.5 kB)\n",
            "Installing collected packages: farama-notifications, gymnasium\n",
            "Successfully installed farama-notifications-0.0.4 gymnasium-0.29.1\n"
          ]
        }
      ],
      "source": [
        "!pip install gymnasium"
      ]
    },
    {
      "cell_type": "code",
      "source": [
        "#Making the environment\n",
        "import gymnasium as gym #alias\n",
        "env = gym.make('FrozenLake-v1', desc=None, map_name=\"4x4\", is_slippery=True,render_mode=\"rgb_array\") #for rendering inside the notebook display, use render_mode =\"ansi\""
      ],
      "metadata": {
        "id": "KRNWQWjyt1LM"
      },
      "execution_count": 2,
      "outputs": []
    },
    {
      "cell_type": "code",
      "source": [
        "#How to make your own\n",
        "#desc=[\"SFFH\",\"HFFF\",\"FFHF\",\"FFFG\"]"
      ],
      "metadata": {
        "id": "PSUxSwOLDFLc"
      },
      "execution_count": 3,
      "outputs": []
    },
    {
      "cell_type": "code",
      "source": [
        "#Number of states and actions\n",
        "n_observations = env.observation_space.n #States\n",
        "n_actions = env.action_space.n           #Action"
      ],
      "metadata": {
        "id": "Fkbh6WUIt7o1"
      },
      "execution_count": 4,
      "outputs": []
    },
    {
      "cell_type": "code",
      "source": [
        "n_rewards= env.reward_range\n",
        "print(\"Range of rewards\",n_rewards)"
      ],
      "metadata": {
        "colab": {
          "base_uri": "https://localhost:8080/"
        },
        "id": "6gzkA-PFEHZA",
        "outputId": "adb8940f-e129-4b0d-f7ad-b1b312f727d5"
      },
      "execution_count": 5,
      "outputs": [
        {
          "output_type": "stream",
          "name": "stdout",
          "text": [
            "Range of rewards (0, 1)\n"
          ]
        }
      ]
    },
    {
      "cell_type": "code",
      "source": [
        "print('Number of States',n_observations)\n",
        "print('Number of possible actions',n_actions)"
      ],
      "metadata": {
        "colab": {
          "base_uri": "https://localhost:8080/"
        },
        "id": "oMQG5c3augti",
        "outputId": "0b98282c-b0b6-46e0-f823-8b79a391c3a6"
      },
      "execution_count": 6,
      "outputs": [
        {
          "output_type": "stream",
          "name": "stdout",
          "text": [
            "Number of States 16\n",
            "Number of possible actions 4\n"
          ]
        }
      ]
    },
    {
      "cell_type": "code",
      "source": [
        "#Initialize the Q-table to 0\n",
        "import numpy as np\n",
        "Q_table = np.zeros((n_observations,n_actions))\n",
        "print(Q_table)"
      ],
      "metadata": {
        "colab": {
          "base_uri": "https://localhost:8080/"
        },
        "id": "rsfyKMloulGp",
        "outputId": "972cedde-f926-44ff-e293-b3f3e64f522d"
      },
      "execution_count": 7,
      "outputs": [
        {
          "output_type": "stream",
          "name": "stdout",
          "text": [
            "[[0. 0. 0. 0.]\n",
            " [0. 0. 0. 0.]\n",
            " [0. 0. 0. 0.]\n",
            " [0. 0. 0. 0.]\n",
            " [0. 0. 0. 0.]\n",
            " [0. 0. 0. 0.]\n",
            " [0. 0. 0. 0.]\n",
            " [0. 0. 0. 0.]\n",
            " [0. 0. 0. 0.]\n",
            " [0. 0. 0. 0.]\n",
            " [0. 0. 0. 0.]\n",
            " [0. 0. 0. 0.]\n",
            " [0. 0. 0. 0.]\n",
            " [0. 0. 0. 0.]\n",
            " [0. 0. 0. 0.]\n",
            " [0. 0. 0. 0.]]\n"
          ]
        }
      ]
    },
    {
      "cell_type": "code",
      "source": [
        "Q_table.shape #16 States with 4 actions each"
      ],
      "metadata": {
        "colab": {
          "base_uri": "https://localhost:8080/"
        },
        "id": "OvwemkYouoXW",
        "outputId": "8eb5a64d-ef3a-4897-8127-a775862e0163"
      },
      "execution_count": 8,
      "outputs": [
        {
          "output_type": "execute_result",
          "data": {
            "text/plain": [
              "(16, 4)"
            ]
          },
          "metadata": {},
          "execution_count": 8
        }
      ]
    },
    {
      "cell_type": "code",
      "source": [
        "Q_table[9,:] #Q-values for State 10"
      ],
      "metadata": {
        "colab": {
          "base_uri": "https://localhost:8080/"
        },
        "id": "LblchnanuwhI",
        "outputId": "100b4bd7-9368-431a-f225-0fb2ce554f64"
      },
      "execution_count": 9,
      "outputs": [
        {
          "output_type": "execute_result",
          "data": {
            "text/plain": [
              "array([0., 0., 0., 0.])"
            ]
          },
          "metadata": {},
          "execution_count": 9
        }
      ]
    },
    {
      "cell_type": "code",
      "source": [
        "#Initialising variables for the process\n",
        "#number of episode we will run\n",
        "n_episodes = 50000\n",
        "\n",
        "#maximum of iteration per episode- Or number of steps per episode\n",
        "steps_allowed = 100\n",
        "\n",
        "#initialize the exploration probability to 1\n",
        "epsilon = 1\n",
        "\n",
        "#exploartion decay rate for exponential decreasing\n",
        "decay_rate = 0.001\n",
        "\n",
        "# minimum of exploration proba\n",
        "min_epsilon = 0.01\n",
        "\n",
        "#max exploration rate\n",
        "max_epsilon=1\n",
        "\n",
        "#discounted factor\n",
        "gamma = 0.99\n",
        "\n",
        "#learning rate\n",
        "lr = 0.1"
      ],
      "metadata": {
        "id": "rabkiyFCu3Xb"
      },
      "execution_count": 10,
      "outputs": []
    },
    {
      "cell_type": "code",
      "source": [
        "#Storing rewards after each episode in a list\n",
        "rewards_per_episode = list()"
      ],
      "metadata": {
        "id": "1zneMS9fvFRO"
      },
      "execution_count": 11,
      "outputs": []
    },
    {
      "cell_type": "code",
      "source": [
        "env.action_space.sample()"
      ],
      "metadata": {
        "colab": {
          "base_uri": "https://localhost:8080/"
        },
        "id": "JQXgrba5gwyp",
        "outputId": "4f2e42e3-ebf3-4c79-ddcc-5e0333fafb0b"
      },
      "execution_count": 12,
      "outputs": [
        {
          "output_type": "execute_result",
          "data": {
            "text/plain": [
              "1"
            ]
          },
          "metadata": {},
          "execution_count": 12
        }
      ]
    },
    {
      "cell_type": "code",
      "source": [
        "#we iterate over episodes\n",
        "for e in range(n_episodes):   # loop over 10000 episode\n",
        "  #we initialize the first state of the episode\n",
        "  state = env.reset()[0]\n",
        "  done = False       #This will keep track of whether the episode has been completed\n",
        "\n",
        "  #sum the rewards that the agent gets from the environment\n",
        "  total_reward = 0\n",
        "\n",
        "  for step in range(steps_allowed):\n",
        "    # epsilon greedy strategy\n",
        "    # we initiate a random number between 0 and 1\n",
        "    # if the random_number is less than the exploration proba(epsilon)\n",
        "    #     the agent explores\n",
        "    # else\n",
        "    #     he exploits his knowledge\n",
        "\n",
        "    if np.random.uniform(0,1) < epsilon:\n",
        "        action = env.action_space.sample()\n",
        "    else: #Exploit\n",
        "        action = np.argmax(Q_table[state,:])\n",
        "\n",
        "    # The environment runs the chosen action and returns\n",
        "    # the next state, a reward and true if the episode is ended.\n",
        "    next_state, reward, done, truncated, info = env.step(action)\n",
        "\n",
        "    # We update our Q-table using the Q-learning iteration\n",
        "    Q_table[state, action] = (1-lr) * Q_table[state, action] \\\n",
        "                       + lr*(reward + gamma* np.max(Q_table[next_state,:]))\n",
        "    total_reward = total_reward + reward\n",
        "\n",
        "    state = next_state\n",
        "    # If the episode is finished, we leave the for loop\n",
        "    if done:\n",
        "        break\n",
        "\n",
        "  #We update the exploration proba using exponential decay formula\n",
        "  epsilon = exploration_rate = min_epsilon + \\\n",
        "    (max_epsilon-min_epsilon) * np.exp(-decay_rate*e)\n",
        "  rewards_per_episode.append(total_reward)"
      ],
      "metadata": {
        "id": "PwXC9vfEvKgR"
      },
      "execution_count": 13,
      "outputs": []
    },
    {
      "cell_type": "code",
      "source": [
        "len(rewards_per_episode)"
      ],
      "metadata": {
        "id": "VWAYLKSSvz89",
        "colab": {
          "base_uri": "https://localhost:8080/"
        },
        "outputId": "89012dab-1efa-4c44-ef83-1f9e5d1580d5"
      },
      "execution_count": 14,
      "outputs": [
        {
          "output_type": "execute_result",
          "data": {
            "text/plain": [
              "50000"
            ]
          },
          "metadata": {},
          "execution_count": 14
        }
      ]
    },
    {
      "cell_type": "code",
      "source": [
        "rewards_per_thousand_episodes=np.split(np.array(rewards_per_episode),n_episodes/1000)"
      ],
      "metadata": {
        "id": "4zOIdQe5v8K3"
      },
      "execution_count": 15,
      "outputs": []
    },
    {
      "cell_type": "code",
      "source": [
        "count=1000\n",
        "print('-----Average reward per thousand episodes-------')\n",
        "for r in rewards_per_thousand_episodes:\n",
        "  print(count,':' ,str(sum(r/1000)))\n",
        "  count+=1000"
      ],
      "metadata": {
        "id": "p1Gb641Cv-kz",
        "colab": {
          "base_uri": "https://localhost:8080/"
        },
        "outputId": "dc88ea6d-3e60-4c6b-cf73-03b19aa6d4f7"
      },
      "execution_count": 16,
      "outputs": [
        {
          "output_type": "stream",
          "name": "stdout",
          "text": [
            "-----Average reward per thousand episodes-------\n",
            "1000 : 0.05100000000000004\n",
            "2000 : 0.20800000000000016\n",
            "3000 : 0.4290000000000003\n",
            "4000 : 0.5430000000000004\n",
            "5000 : 0.6230000000000004\n",
            "6000 : 0.6370000000000005\n",
            "7000 : 0.6970000000000005\n",
            "8000 : 0.6600000000000005\n",
            "9000 : 0.6880000000000005\n",
            "10000 : 0.6800000000000005\n",
            "11000 : 0.6720000000000005\n",
            "12000 : 0.6820000000000005\n",
            "13000 : 0.6950000000000005\n",
            "14000 : 0.6790000000000005\n",
            "15000 : 0.6630000000000005\n",
            "16000 : 0.6580000000000005\n",
            "17000 : 0.6730000000000005\n",
            "18000 : 0.6700000000000005\n",
            "19000 : 0.6940000000000005\n",
            "20000 : 0.6800000000000005\n",
            "21000 : 0.6970000000000005\n",
            "22000 : 0.6820000000000005\n",
            "23000 : 0.6750000000000005\n",
            "24000 : 0.6790000000000005\n",
            "25000 : 0.6970000000000005\n",
            "26000 : 0.6850000000000005\n",
            "27000 : 0.6560000000000005\n",
            "28000 : 0.6990000000000005\n",
            "29000 : 0.7000000000000005\n",
            "30000 : 0.6940000000000005\n",
            "31000 : 0.6670000000000005\n",
            "32000 : 0.6620000000000005\n",
            "33000 : 0.6760000000000005\n",
            "34000 : 0.6480000000000005\n",
            "35000 : 0.7250000000000005\n",
            "36000 : 0.6840000000000005\n",
            "37000 : 0.6680000000000005\n",
            "38000 : 0.6640000000000005\n",
            "39000 : 0.6740000000000005\n",
            "40000 : 0.6940000000000005\n",
            "41000 : 0.7020000000000005\n",
            "42000 : 0.7020000000000005\n",
            "43000 : 0.6920000000000005\n",
            "44000 : 0.6770000000000005\n",
            "45000 : 0.6780000000000005\n",
            "46000 : 0.7080000000000005\n",
            "47000 : 0.6880000000000005\n",
            "48000 : 0.6600000000000005\n",
            "49000 : 0.7030000000000005\n",
            "50000 : 0.6870000000000005\n"
          ]
        }
      ]
    },
    {
      "cell_type": "code",
      "source": [
        "print('-----------Updated Q Table-----------')\n",
        "print(Q_table)"
      ],
      "metadata": {
        "id": "KPjtmEb6wJh8",
        "colab": {
          "base_uri": "https://localhost:8080/"
        },
        "outputId": "5eb496a7-410c-4cde-d1a4-ec037584be49"
      },
      "execution_count": 17,
      "outputs": [
        {
          "output_type": "stream",
          "name": "stdout",
          "text": [
            "-----------Updated Q Table-----------\n",
            "[[0.52839502 0.49667213 0.49820403 0.49610166]\n",
            " [0.41211341 0.33916459 0.34036414 0.48468881]\n",
            " [0.38528509 0.42250591 0.4325106  0.45179409]\n",
            " [0.38540798 0.29153475 0.3577074  0.43922083]\n",
            " [0.54720286 0.46101725 0.36664834 0.43328481]\n",
            " [0.         0.         0.         0.        ]\n",
            " [0.38790748 0.17546262 0.19124391 0.17660036]\n",
            " [0.         0.         0.         0.        ]\n",
            " [0.42335323 0.39271393 0.34474778 0.59034506]\n",
            " [0.43468399 0.64327112 0.43602673 0.38364287]\n",
            " [0.65568866 0.44259121 0.26482783 0.39520299]\n",
            " [0.         0.         0.         0.        ]\n",
            " [0.         0.         0.         0.        ]\n",
            " [0.46099164 0.543079   0.74083842 0.5656257 ]\n",
            " [0.72097017 0.89694691 0.77688188 0.75921604]\n",
            " [0.         0.         0.         0.        ]]\n"
          ]
        }
      ]
    },
    {
      "cell_type": "code",
      "source": [
        "import time\n",
        "from IPython.display import clear_output"
      ],
      "metadata": {
        "id": "rt_rGFBSw2nA"
      },
      "execution_count": 18,
      "outputs": []
    },
    {
      "cell_type": "code",
      "source": [
        "#Visualising the game\n",
        "for episode in range(3):\n",
        "  state=env.reset()[0]\n",
        "  done=False\n",
        "  print('----------EPISODE:',episode+1,'---------\\n\\n\\n\\n')\n",
        "  time.sleep(0.5)\n",
        "\n",
        "  for step in range(steps_allowed):\n",
        "    clear_output(wait=True)\n",
        "    print(env.render())\n",
        "    time.sleep(0.4)\n",
        "\n",
        "    action = np.argmax(Q_table[state,:])\n",
        "    new_state, reward, done, truncated, info = env.step(action)\n",
        "\n",
        "    if done:\n",
        "      clear_output(wait=True)\n",
        "      print(env.render())\n",
        "      if reward == 1:\n",
        "          print(\"****You reached the goal!****\")\n",
        "          time.sleep(3)\n",
        "      else:\n",
        "          print(\"****You fell through a hole!****\")\n",
        "          time.sleep(3)\n",
        "      clear_output(wait=True)\n",
        "      break\n",
        "\n",
        "    state=new_state\n",
        "\n",
        "env.close()"
      ],
      "metadata": {
        "id": "rjf-tE-XwNLx",
        "colab": {
          "base_uri": "https://localhost:8080/"
        },
        "outputId": "db091fc2-7ea5-484d-ae28-09b91f646351"
      },
      "execution_count": 19,
      "outputs": [
        {
          "output_type": "stream",
          "name": "stdout",
          "text": [
            "[[[180 200 230]\n",
            "  [180 200 230]\n",
            "  [180 200 230]\n",
            "  ...\n",
            "  [180 200 230]\n",
            "  [180 200 230]\n",
            "  [180 200 230]]\n",
            "\n",
            " [[180 200 230]\n",
            "  [204 230 255]\n",
            "  [204 230 255]\n",
            "  ...\n",
            "  [204 230 255]\n",
            "  [204 230 255]\n",
            "  [180 200 230]]\n",
            "\n",
            " [[180 200 230]\n",
            "  [235 245 249]\n",
            "  [204 230 255]\n",
            "  ...\n",
            "  [204 230 255]\n",
            "  [204 230 255]\n",
            "  [180 200 230]]\n",
            "\n",
            " ...\n",
            "\n",
            " [[180 200 230]\n",
            "  [235 245 249]\n",
            "  [235 245 249]\n",
            "  ...\n",
            "  [204 230 255]\n",
            "  [235 245 249]\n",
            "  [180 200 230]]\n",
            "\n",
            " [[180 200 230]\n",
            "  [235 245 249]\n",
            "  [235 245 249]\n",
            "  ...\n",
            "  [204 230 255]\n",
            "  [204 230 255]\n",
            "  [180 200 230]]\n",
            "\n",
            " [[180 200 230]\n",
            "  [180 200 230]\n",
            "  [180 200 230]\n",
            "  ...\n",
            "  [180 200 230]\n",
            "  [180 200 230]\n",
            "  [180 200 230]]]\n",
            "****You reached the goal!****\n"
          ]
        }
      ]
    },
    {
      "cell_type": "code",
      "source": [
        "#Visualising in video\n",
        "%pip install gymnasium[classic_control] comet_ml\n",
        "import comet_ml\n",
        "comet_ml.init(project_name=\"frozen_lake\")\n",
        "env = gym.wrappers.RecordVideo(env, 'gameplay video')"
      ],
      "metadata": {
        "id": "q5aGuHeHwzpl",
        "colab": {
          "base_uri": "https://localhost:8080/"
        },
        "outputId": "2a4fb897-c834-4807-cb6e-f500b5efef19"
      },
      "execution_count": 20,
      "outputs": [
        {
          "output_type": "stream",
          "name": "stdout",
          "text": [
            "Collecting comet_ml\n",
            "  Downloading comet_ml-3.47.0-py3-none-any.whl.metadata (3.9 kB)\n",
            "Requirement already satisfied: gymnasium[classic_control] in /usr/local/lib/python3.10/dist-packages (0.29.1)\n",
            "Requirement already satisfied: numpy>=1.21.0 in /usr/local/lib/python3.10/dist-packages (from gymnasium[classic_control]) (1.26.4)\n",
            "Requirement already satisfied: cloudpickle>=1.2.0 in /usr/local/lib/python3.10/dist-packages (from gymnasium[classic_control]) (2.2.1)\n",
            "Requirement already satisfied: typing-extensions>=4.3.0 in /usr/local/lib/python3.10/dist-packages (from gymnasium[classic_control]) (4.12.2)\n",
            "Requirement already satisfied: farama-notifications>=0.0.1 in /usr/local/lib/python3.10/dist-packages (from gymnasium[classic_control]) (0.0.4)\n",
            "Requirement already satisfied: pygame>=2.1.3 in /usr/local/lib/python3.10/dist-packages (from gymnasium[classic_control]) (2.6.0)\n",
            "Collecting everett<3.2.0,>=1.0.1 (from everett[ini]<3.2.0,>=1.0.1->comet_ml)\n",
            "  Downloading everett-3.1.0-py2.py3-none-any.whl.metadata (17 kB)\n",
            "Requirement already satisfied: jsonschema!=3.1.0,>=2.6.0 in /usr/local/lib/python3.10/dist-packages (from comet_ml) (4.23.0)\n",
            "Requirement already satisfied: psutil>=5.6.3 in /usr/local/lib/python3.10/dist-packages (from comet_ml) (5.9.5)\n",
            "Collecting python-box<7.0.0 (from comet_ml)\n",
            "  Downloading python_box-6.1.0-cp310-cp310-manylinux_2_17_x86_64.manylinux2014_x86_64.whl.metadata (7.8 kB)\n",
            "Collecting requests-toolbelt>=0.8.0 (from comet_ml)\n",
            "  Downloading requests_toolbelt-1.0.0-py2.py3-none-any.whl.metadata (14 kB)\n",
            "Requirement already satisfied: requests>=2.18.4 in /usr/local/lib/python3.10/dist-packages (from comet_ml) (2.32.3)\n",
            "Collecting semantic-version>=2.8.0 (from comet_ml)\n",
            "  Downloading semantic_version-2.10.0-py2.py3-none-any.whl.metadata (9.7 kB)\n",
            "Collecting sentry-sdk>=1.1.0 (from comet_ml)\n",
            "  Downloading sentry_sdk-2.14.0-py2.py3-none-any.whl.metadata (9.7 kB)\n",
            "Collecting simplejson (from comet_ml)\n",
            "  Downloading simplejson-3.19.3-cp310-cp310-manylinux_2_5_x86_64.manylinux1_x86_64.manylinux_2_17_x86_64.manylinux2014_x86_64.whl.metadata (3.2 kB)\n",
            "Requirement already satisfied: urllib3>=1.21.1 in /usr/local/lib/python3.10/dist-packages (from comet_ml) (2.2.3)\n",
            "Requirement already satisfied: wrapt>=1.11.2 in /usr/local/lib/python3.10/dist-packages (from comet_ml) (1.16.0)\n",
            "Collecting wurlitzer>=1.0.2 (from comet_ml)\n",
            "  Downloading wurlitzer-3.1.1-py3-none-any.whl.metadata (2.5 kB)\n",
            "Collecting dulwich!=0.20.33,>=0.20.6 (from comet_ml)\n",
            "  Downloading dulwich-0.22.1-cp310-cp310-manylinux_2_17_x86_64.manylinux2014_x86_64.whl.metadata (4.4 kB)\n",
            "Requirement already satisfied: rich>=13.3.2 in /usr/local/lib/python3.10/dist-packages (from comet_ml) (13.8.1)\n",
            "Collecting configobj (from everett[ini]<3.2.0,>=1.0.1->comet_ml)\n",
            "  Downloading configobj-5.0.9.tar.gz (101 kB)\n",
            "\u001b[2K     \u001b[90m━━━━━━━━━━━━━━━━━━━━━━━━━━━━━━━━━━━━━━━━\u001b[0m \u001b[32m101.5/101.5 kB\u001b[0m \u001b[31m4.2 MB/s\u001b[0m eta \u001b[36m0:00:00\u001b[0m\n",
            "\u001b[?25h  Installing build dependencies ... \u001b[?25l\u001b[?25hdone\n",
            "  Getting requirements to build wheel ... \u001b[?25l\u001b[?25hdone\n",
            "  Preparing metadata (pyproject.toml) ... \u001b[?25l\u001b[?25hdone\n",
            "Requirement already satisfied: attrs>=22.2.0 in /usr/local/lib/python3.10/dist-packages (from jsonschema!=3.1.0,>=2.6.0->comet_ml) (24.2.0)\n",
            "Requirement already satisfied: jsonschema-specifications>=2023.03.6 in /usr/local/lib/python3.10/dist-packages (from jsonschema!=3.1.0,>=2.6.0->comet_ml) (2023.12.1)\n",
            "Requirement already satisfied: referencing>=0.28.4 in /usr/local/lib/python3.10/dist-packages (from jsonschema!=3.1.0,>=2.6.0->comet_ml) (0.35.1)\n",
            "Requirement already satisfied: rpds-py>=0.7.1 in /usr/local/lib/python3.10/dist-packages (from jsonschema!=3.1.0,>=2.6.0->comet_ml) (0.20.0)\n",
            "Requirement already satisfied: charset-normalizer<4,>=2 in /usr/local/lib/python3.10/dist-packages (from requests>=2.18.4->comet_ml) (3.3.2)\n",
            "Requirement already satisfied: idna<4,>=2.5 in /usr/local/lib/python3.10/dist-packages (from requests>=2.18.4->comet_ml) (3.10)\n",
            "Requirement already satisfied: certifi>=2017.4.17 in /usr/local/lib/python3.10/dist-packages (from requests>=2.18.4->comet_ml) (2024.8.30)\n",
            "Requirement already satisfied: markdown-it-py>=2.2.0 in /usr/local/lib/python3.10/dist-packages (from rich>=13.3.2->comet_ml) (3.0.0)\n",
            "Requirement already satisfied: pygments<3.0.0,>=2.13.0 in /usr/local/lib/python3.10/dist-packages (from rich>=13.3.2->comet_ml) (2.18.0)\n",
            "Requirement already satisfied: mdurl~=0.1 in /usr/local/lib/python3.10/dist-packages (from markdown-it-py>=2.2.0->rich>=13.3.2->comet_ml) (0.1.2)\n",
            "Downloading comet_ml-3.47.0-py3-none-any.whl (694 kB)\n",
            "\u001b[2K   \u001b[90m━━━━━━━━━━━━━━━━━━━━━━━━━━━━━━━━━━━━━━━━\u001b[0m \u001b[32m694.9/694.9 kB\u001b[0m \u001b[31m12.2 MB/s\u001b[0m eta \u001b[36m0:00:00\u001b[0m\n",
            "\u001b[?25hDownloading dulwich-0.22.1-cp310-cp310-manylinux_2_17_x86_64.manylinux2014_x86_64.whl (979 kB)\n",
            "\u001b[2K   \u001b[90m━━━━━━━━━━━━━━━━━━━━━━━━━━━━━━━━━━━━━━━━\u001b[0m \u001b[32m979.1/979.1 kB\u001b[0m \u001b[31m40.7 MB/s\u001b[0m eta \u001b[36m0:00:00\u001b[0m\n",
            "\u001b[?25hDownloading everett-3.1.0-py2.py3-none-any.whl (35 kB)\n",
            "Downloading python_box-6.1.0-cp310-cp310-manylinux_2_17_x86_64.manylinux2014_x86_64.whl (3.3 MB)\n",
            "\u001b[2K   \u001b[90m━━━━━━━━━━━━━━━━━━━━━━━━━━━━━━━━━━━━━━━━\u001b[0m \u001b[32m3.3/3.3 MB\u001b[0m \u001b[31m78.7 MB/s\u001b[0m eta \u001b[36m0:00:00\u001b[0m\n",
            "\u001b[?25hDownloading requests_toolbelt-1.0.0-py2.py3-none-any.whl (54 kB)\n",
            "\u001b[2K   \u001b[90m━━━━━━━━━━━━━━━━━━━━━━━━━━━━━━━━━━━━━━━━\u001b[0m \u001b[32m54.5/54.5 kB\u001b[0m \u001b[31m4.2 MB/s\u001b[0m eta \u001b[36m0:00:00\u001b[0m\n",
            "\u001b[?25hDownloading semantic_version-2.10.0-py2.py3-none-any.whl (15 kB)\n",
            "Downloading sentry_sdk-2.14.0-py2.py3-none-any.whl (311 kB)\n",
            "\u001b[2K   \u001b[90m━━━━━━━━━━━━━━━━━━━━━━━━━━━━━━━━━━━━━━━━\u001b[0m \u001b[32m311.4/311.4 kB\u001b[0m \u001b[31m22.1 MB/s\u001b[0m eta \u001b[36m0:00:00\u001b[0m\n",
            "\u001b[?25hDownloading wurlitzer-3.1.1-py3-none-any.whl (8.6 kB)\n",
            "Downloading simplejson-3.19.3-cp310-cp310-manylinux_2_5_x86_64.manylinux1_x86_64.manylinux_2_17_x86_64.manylinux2014_x86_64.whl (137 kB)\n",
            "\u001b[2K   \u001b[90m━━━━━━━━━━━━━━━━━━━━━━━━━━━━━━━━━━━━━━━━\u001b[0m \u001b[32m137.9/137.9 kB\u001b[0m \u001b[31m11.2 MB/s\u001b[0m eta \u001b[36m0:00:00\u001b[0m\n",
            "\u001b[?25hBuilding wheels for collected packages: configobj\n",
            "  Building wheel for configobj (pyproject.toml) ... \u001b[?25l\u001b[?25hdone\n",
            "  Created wheel for configobj: filename=configobj-5.0.9-py2.py3-none-any.whl size=35614 sha256=798ae1286a475211e89caeb90b6cb6aed42eb00417b7abd38e2376831f29c8f5\n",
            "  Stored in directory: /root/.cache/pip/wheels/a1/6c/03/6c5e3cf1a6e4b9e2fc5c4409be4abc5a8268bd9c878739cb32\n",
            "Successfully built configobj\n",
            "Installing collected packages: everett, wurlitzer, simplejson, sentry-sdk, semantic-version, python-box, dulwich, configobj, requests-toolbelt, comet_ml\n",
            "  Attempting uninstall: python-box\n",
            "    Found existing installation: python-box 7.2.0\n",
            "    Uninstalling python-box-7.2.0:\n",
            "      Successfully uninstalled python-box-7.2.0\n",
            "Successfully installed comet_ml-3.47.0 configobj-5.0.9 dulwich-0.22.1 everett-3.1.0 python-box-6.1.0 requests-toolbelt-1.0.0 semantic-version-2.10.0 sentry-sdk-2.14.0 simplejson-3.19.3 wurlitzer-3.1.1\n"
          ]
        },
        {
          "output_type": "stream",
          "name": "stderr",
          "text": [
            "\u001b[1;38;5;214mCOMET WARNING:\u001b[0m comet_ml.init() is deprecated and will be removed soon. Please use comet_ml.login()\n"
          ]
        },
        {
          "name": "stdout",
          "output_type": "stream",
          "text": [
            "Please paste your Comet API key from https://www.comet.com/api/my/settings/\n",
            "(api key may not show as you type)\n",
            "Comet API key: ··········\n"
          ]
        },
        {
          "output_type": "stream",
          "name": "stderr",
          "text": [
            "\u001b[1;38;5;39mCOMET INFO:\u001b[0m Valid Comet API Key saved in /root/.comet.config (set COMET_CONFIG to change where it is saved).\n"
          ]
        }
      ]
    },
    {
      "cell_type": "code",
      "source": [
        "#Visualising the game\n",
        "for episode in range(3):\n",
        "  state=env.reset()[0]\n",
        "  done=False\n",
        "  print('----------EPISODE:',episode+1,'---------\\n\\n\\n\\n')\n",
        "  time.sleep(1)\n",
        "\n",
        "  for step in range(steps_allowed):\n",
        "    clear_output(wait=True)\n",
        "    print(env.render())\n",
        "    time.sleep(0.4)\n",
        "\n",
        "    action = np.argmax(Q_table[state,:])\n",
        "    new_state, reward, done, truncated, info = env.step(action)\n",
        "\n",
        "    if done:\n",
        "      clear_output(wait=True)\n",
        "      print(env.render())\n",
        "      if reward == 1:\n",
        "          print(\"****You reached the goal!****\")\n",
        "          time.sleep(3)\n",
        "      else:\n",
        "          print(\"****You fell through a hole!****\")\n",
        "          time.sleep(3)\n",
        "      clear_output(wait=True)\n",
        "      break\n",
        "\n",
        "    state=new_state\n",
        "\n",
        "env.close()"
      ],
      "metadata": {
        "id": "7O3Bh-K-yB7H",
        "colab": {
          "base_uri": "https://localhost:8080/"
        },
        "outputId": "b864367c-1e6d-48dd-c558-e5e3ea59a29d"
      },
      "execution_count": 21,
      "outputs": [
        {
          "output_type": "stream",
          "name": "stdout",
          "text": [
            "[[[180 200 230]\n",
            "  [180 200 230]\n",
            "  [180 200 230]\n",
            "  ...\n",
            "  [180 200 230]\n",
            "  [180 200 230]\n",
            "  [180 200 230]]\n",
            "\n",
            " [[180 200 230]\n",
            "  [204 230 255]\n",
            "  [204 230 255]\n",
            "  ...\n",
            "  [204 230 255]\n",
            "  [204 230 255]\n",
            "  [180 200 230]]\n",
            "\n",
            " [[180 200 230]\n",
            "  [235 245 249]\n",
            "  [204 230 255]\n",
            "  ...\n",
            "  [204 230 255]\n",
            "  [204 230 255]\n",
            "  [180 200 230]]\n",
            "\n",
            " ...\n",
            "\n",
            " [[180 200 230]\n",
            "  [235 245 249]\n",
            "  [235 245 249]\n",
            "  ...\n",
            "  [204 230 255]\n",
            "  [235 245 249]\n",
            "  [180 200 230]]\n",
            "\n",
            " [[180 200 230]\n",
            "  [235 245 249]\n",
            "  [235 245 249]\n",
            "  ...\n",
            "  [204 230 255]\n",
            "  [204 230 255]\n",
            "  [180 200 230]]\n",
            "\n",
            " [[180 200 230]\n",
            "  [180 200 230]\n",
            "  [180 200 230]\n",
            "  ...\n",
            "  [180 200 230]\n",
            "  [180 200 230]\n",
            "  [180 200 230]]]\n",
            "****You fell through a hole!****\n"
          ]
        }
      ]
    },
    {
      "cell_type": "code",
      "source": [],
      "metadata": {
        "id": "hKL7duEZzn1o"
      },
      "execution_count": null,
      "outputs": []
    }
  ]
}